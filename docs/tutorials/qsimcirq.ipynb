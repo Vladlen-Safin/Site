{
  "cells": [
    {
      "cell_type": "markdown",
      "metadata": {
        "id": "8M2lhf2RBGZj"
      },
      "source": [
        "##### Copyright 2020 Google"
      ]
    },
    {
      "cell_type": "code",
      "execution_count": 1,
      "metadata": {
        "id": "FMqHt2UBBJzR"
      },
      "outputs": [],
      "source": [
        "#@title Licensed under the Apache License, Version 2.0 (the \"License\");\n",
        "# you may not use this file except in compliance with the License.\n",
        "# You may obtain a copy of the License at\n",
        "#\n",
        "# https://www.apache.org/licenses/LICENSE-2.0\n",
        "#\n",
        "# Unless required by applicable law or agreed to in writing, software\n",
        "# distributed under the License is distributed on an \"AS IS\" BASIS,\n",
        "# WITHOUT WARRANTIES OR CONDITIONS OF ANY KIND, either express or implied.\n",
        "# See the License for the specific language governing permissions and\n",
        "# limitations under the License."
      ]
    },
    {
      "cell_type": "markdown",
      "metadata": {
        "id": "vAx5g2rPnlzt"
      },
      "source": [
        "# Get started with qsimcirq"
      ]
    },
    {
      "cell_type": "markdown",
      "metadata": {
        "id": "5jqw8k0zBsb-"
      },
      "source": [
        "<table class=\"tfo-notebook-buttons\" align=\"left\">\n",
        "  <td>\n",
        "    <a target=\"_blank\" href=\"https://quantumai.google/qsim/tutorials/qsimcirq\"><img src=\"https://quantumai.google/site-assets/images/buttons/quantumai_logo_1x.png\" />View on QuantumAI</a>\n",
        "  </td>\n",
        "  <td>\n",
        "    <a target=\"_blank\" href=\"https://colab.research.google.com/github/quantumlib/qsim/blob/master/docs/tutorials/qsimcirq.ipynb\"><img src=\"https://quantumai.google/site-assets/images/buttons/colab_logo_1x.png\" />Run in Google Colab</a>\n",
        "  </td>\n",
        "  <td>\n",
        "    <a target=\"_blank\" href=\"https://github.com/quantumlib/qsim/blob/master/docs/tutorials/qsimcirq.ipynb\"><img src=\"https://quantumai.google/site-assets/images/buttons/github_logo_1x.png\" />View source on GitHub</a>\n",
        "  </td>\n",
        "  <td>\n",
        "    <a href=\"https://storage.googleapis.com/tensorflow_docs/qsim/docs/tutorials/qsimcirq.ipynb\"><img src=\"https://quantumai.google/site-assets/images/buttons/download_icon_1x.png\" />Download notebook</a>\n",
        "  </td>\n",
        "</table>"
      ]
    },
    {
      "cell_type": "markdown",
      "metadata": {
        "id": "VgdpPfgTCjQB"
      },
      "source": [
        "The qsim library provides a Python interface to Cirq in the **qsimcirq** PyPI package."
      ]
    },
    {
      "cell_type": "markdown",
      "metadata": {
        "id": "8vr-44j-Csxf"
      },
      "source": [
        "## Setup\n",
        "\n",
        "Install the Cirq and qsimcirq packages:"
      ]
    },
    {
      "cell_type": "code",
      "execution_count": 1,
      "metadata": {
        "id": "XcAhsIQdivnp",
        "outputId": "e8a92569-8b7c-4035-f0ff-bf2236b3d377",
        "colab": {
          "base_uri": "https://localhost:8080/"
        }
      },
      "outputs": [
        {
          "output_type": "stream",
          "name": "stdout",
          "text": [
            "\u001b[?25l     \u001b[90m━━━━━━━━━━━━━━━━━━━━━━━━━━━━━━━━━━━━━━━━\u001b[0m \u001b[32m0.0/45.6 kB\u001b[0m \u001b[31m?\u001b[0m eta \u001b[36m-:--:--\u001b[0m\r\u001b[2K     \u001b[90m━━━━━━━━━━━━━━━━━━━━━━━━━━━━━━━━━━━━━━━━\u001b[0m \u001b[32m45.6/45.6 kB\u001b[0m \u001b[31m1.7 MB/s\u001b[0m eta \u001b[36m0:00:00\u001b[0m\n",
            "\u001b[?25h  Preparing metadata (setup.py) ... \u001b[?25l\u001b[?25hdone\n",
            "\u001b[2K   \u001b[90m━━━━━━━━━━━━━━━━━━━━━━━━━━━━━━━━━━━━━━━━\u001b[0m \u001b[32m1.9/1.9 MB\u001b[0m \u001b[31m22.2 MB/s\u001b[0m eta \u001b[36m0:00:00\u001b[0m\n",
            "\u001b[2K   \u001b[90m━━━━━━━━━━━━━━━━━━━━━━━━━━━━━━━━━━━━━━━━\u001b[0m \u001b[32m532.7/532.7 kB\u001b[0m \u001b[31m27.2 MB/s\u001b[0m eta \u001b[36m0:00:00\u001b[0m\n",
            "\u001b[2K   \u001b[90m━━━━━━━━━━━━━━━━━━━━━━━━━━━━━━━━━━━━━━━━\u001b[0m \u001b[32m60.5/60.5 kB\u001b[0m \u001b[31m3.9 MB/s\u001b[0m eta \u001b[36m0:00:00\u001b[0m\n",
            "\u001b[2K   \u001b[90m━━━━━━━━━━━━━━━━━━━━━━━━━━━━━━━━━━━━━━━━\u001b[0m \u001b[32m69.3/69.3 kB\u001b[0m \u001b[31m4.7 MB/s\u001b[0m eta \u001b[36m0:00:00\u001b[0m\n",
            "\u001b[2K   \u001b[90m━━━━━━━━━━━━━━━━━━━━━━━━━━━━━━━━━━━━━━━━\u001b[0m \u001b[32m596.5/596.5 kB\u001b[0m \u001b[31m30.8 MB/s\u001b[0m eta \u001b[36m0:00:00\u001b[0m\n",
            "\u001b[2K   \u001b[90m━━━━━━━━━━━━━━━━━━━━━━━━━━━━━━━━━━━━━━━━\u001b[0m \u001b[32m202.9/202.9 kB\u001b[0m \u001b[31m13.0 MB/s\u001b[0m eta \u001b[36m0:00:00\u001b[0m\n",
            "\u001b[2K   \u001b[90m━━━━━━━━━━━━━━━━━━━━━━━━━━━━━━━━━━━━━━━━\u001b[0m \u001b[32m53.0/53.0 kB\u001b[0m \u001b[31m3.6 MB/s\u001b[0m eta \u001b[36m0:00:00\u001b[0m\n",
            "\u001b[2K   \u001b[90m━━━━━━━━━━━━━━━━━━━━━━━━━━━━━━━━━━━━━━━━\u001b[0m \u001b[32m6.5/6.5 MB\u001b[0m \u001b[31m81.5 MB/s\u001b[0m eta \u001b[36m0:00:00\u001b[0m\n",
            "\u001b[2K   \u001b[90m━━━━━━━━━━━━━━━━━━━━━━━━━━━━━━━━━━━━━━━━\u001b[0m \u001b[32m2.2/2.2 MB\u001b[0m \u001b[31m68.2 MB/s\u001b[0m eta \u001b[36m0:00:00\u001b[0m\n",
            "\u001b[2K   \u001b[90m━━━━━━━━━━━━━━━━━━━━━━━━━━━━━━━━━━━━━━━━\u001b[0m \u001b[32m2.7/2.7 MB\u001b[0m \u001b[31m72.2 MB/s\u001b[0m eta \u001b[36m0:00:00\u001b[0m\n",
            "\u001b[2K   \u001b[90m━━━━━━━━━━━━━━━━━━━━━━━━━━━━━━━━━━━━━━━━\u001b[0m \u001b[32m1.7/1.7 MB\u001b[0m \u001b[31m58.4 MB/s\u001b[0m eta \u001b[36m0:00:00\u001b[0m\n",
            "\u001b[2K   \u001b[90m━━━━━━━━━━━━━━━━━━━━━━━━━━━━━━━━━━━━━━━━\u001b[0m \u001b[32m117.7/117.7 kB\u001b[0m \u001b[31m8.5 MB/s\u001b[0m eta \u001b[36m0:00:00\u001b[0m\n",
            "\u001b[2K   \u001b[90m━━━━━━━━━━━━━━━━━━━━━━━━━━━━━━━━━━━━━━━━\u001b[0m \u001b[32m739.1/739.1 kB\u001b[0m \u001b[31m37.2 MB/s\u001b[0m eta \u001b[36m0:00:00\u001b[0m\n",
            "\u001b[?25h  Building wheel for rpcq (setup.py) ... \u001b[?25l\u001b[?25hdone\n",
            "\u001b[2K   \u001b[90m━━━━━━━━━━━━━━━━━━━━━━━━━━━━━━━━━━━━━━━━\u001b[0m \u001b[32m1.6/1.6 MB\u001b[0m \u001b[31m16.3 MB/s\u001b[0m eta \u001b[36m0:00:00\u001b[0m\n",
            "\u001b[2K   \u001b[90m━━━━━━━━━━━━━━━━━━━━━━━━━━━━━━━━━━━━━━━━\u001b[0m \u001b[32m243.3/243.3 kB\u001b[0m \u001b[31m15.7 MB/s\u001b[0m eta \u001b[36m0:00:00\u001b[0m\n",
            "\u001b[?25h"
          ]
        }
      ],
      "source": [
        "try:\n",
        "    import cirq\n",
        "except ImportError:\n",
        "    !pip install cirq --quiet\n",
        "    import cirq\n",
        "\n",
        "try:\n",
        "    import qsimcirq\n",
        "except ImportError:\n",
        "    !pip install qsimcirq --quiet\n",
        "    import qsimcirq"
      ]
    },
    {
      "cell_type": "code",
      "source": [
        "import cirq\n",
        "import qsimcirq\n",
        "\n",
        "def main():\n",
        "    # 1. Создать один кубит\n",
        "    qubit = cirq.LineQubit(1)\n",
        "\n",
        "    # 2. Создать квантовую схему с явным именем измерения\n",
        "    circuit = cirq.Circuit(\n",
        "        cirq.X(qubit),  # Применяем вентиль Паули X\n",
        "        cirq.measure(qubit, key=\"result\")  # Измеряем кубит и сохраняем в \"result\"\n",
        "    )\n",
        "\n",
        "    print(\"Квантовая схема:\")\n",
        "    print(circuit)\n",
        "\n",
        "    # 3. Использование симулятора qsimcirq\n",
        "    simulator = qsimcirq.QSimSimulator()\n",
        "\n",
        "    # 4. Запуск симуляции\n",
        "    result = simulator.run(circuit, repetitions=5000)\n",
        "\n",
        "    # 5. Анализ результатов\n",
        "    print(\"Результаты измерений:\")\n",
        "    print(result.histogram(key=\"result\"))  # Теперь используем правильный ключ\n",
        "\n",
        "if __name__ == \"__main__\":\n",
        "    main()\n"
      ],
      "metadata": {
        "id": "flwP1ifPgnR3",
        "outputId": "ed263edb-c199-48d7-c56b-b1c510cc24c9",
        "colab": {
          "base_uri": "https://localhost:8080/"
        }
      },
      "execution_count": 20,
      "outputs": [
        {
          "output_type": "stream",
          "name": "stdout",
          "text": [
            "Квантовая схема:\n",
            "1: ───X───M('result')───\n",
            "Результаты измерений:\n",
            "Counter({1: 5000})\n"
          ]
        }
      ]
    },
    {
      "cell_type": "code",
      "source": [
        "# 1 лаба\n",
        "import cirq\n",
        "import qsimcirq\n",
        "\n",
        "# 1. Создаем кубиты\n",
        "qubit = cirq.GridQubit(0, 0)\n",
        "\n",
        "# 2. Создаем квантовую схему\n",
        "circuit = cirq.Circuit()\n",
        "circuit.append(cirq.X(qubit))  # Применяем вентиль Паули X\n",
        "circuit.append(cirq.measure(qubit, key='result'))  # Измеряем кубит\n",
        "\n",
        "print(\"Квантовая схема:\")\n",
        "print(circuit)\n",
        "\n",
        "# 3. Компилируем программу в формат qsimcirq\n",
        "qsim_circuit = qsimcirq.QSimCircuit(circuit)\n",
        "\n",
        "# 4. Запускаем на симуляторе\n",
        "simulator = qsimcirq.QSimSimulator()\n",
        "result = simulator.run(qsim_circuit, repetitions=1000)\n",
        "\n",
        "# 5. Анализируем результаты\n",
        "counts = result.histogram(key='result')\n",
        "print(f'Результаты измерений: {counts}')"
      ],
      "metadata": {
        "id": "qPYBivuzxKev",
        "outputId": "a03ac651-3883-4879-fdf9-11b9acc7ec30",
        "colab": {
          "base_uri": "https://localhost:8080/"
        }
      },
      "execution_count": 4,
      "outputs": [
        {
          "output_type": "stream",
          "name": "stdout",
          "text": [
            "Квантовая схема:\n",
            "(0, 0): ───X───M('result')───\n",
            "Результаты измерений: Counter({1: 1000})\n"
          ]
        }
      ]
    },
    {
      "cell_type": "code",
      "source": [
        "# 2 лаба\n",
        "import cirq\n",
        "import qsimcirq\n",
        "\n",
        "# 1. Создаем кубиты (3 кубита для телепортации)\n",
        "qubits = [cirq.GridQubit(0, i) for i in range(3)]\n",
        "\n",
        "# 2. Создаем квантовую схему\n",
        "circuit = cirq.Circuit()\n",
        "\n",
        "# 3. Создаем запутанное состояние между вторым и третьим кубитами\n",
        "circuit.append(cirq.H(qubits[1]))\n",
        "circuit.append(cirq.CNOT(qubits[1], qubits[2]))\n",
        "\n",
        "# 4. Подготавливаем состояние на первом кубите\n",
        "circuit.append(cirq.X(qubits[0]))  # Можно поменять на любое другое состояние\n",
        "\n",
        "# 5. Применяем операции Белла\n",
        "circuit.append(cirq.CNOT(qubits[0], qubits[1]))\n",
        "circuit.append(cirq.H(qubits[0]))\n",
        "\n",
        "# 6. Измеряем первые два кубита\n",
        "circuit.append(cirq.measure(qubits[0], key='m0'))\n",
        "circuit.append(cirq.measure(qubits[1], key='m1'))\n",
        "\n",
        "# 7. Применяем операции восстановления на третьем кубите\n",
        "circuit.append(cirq.CNOT(qubits[1], qubits[2]))\n",
        "circuit.append(cirq.CZ(qubits[0], qubits[2]))\n",
        "\n",
        "print(\"Квантовая схема:\")\n",
        "print(circuit)\n",
        "\n",
        "# 8. Компилируем программу в формат qsimcirq\n",
        "qsim_circuit = qsimcirq.QSimCircuit(circuit)\n",
        "\n",
        "# 9. Запускаем на симуляторе\n",
        "simulator = qsimcirq.QSimSimulator()\n",
        "result = simulator.run(qsim_circuit, repetitions=1000)\n",
        "\n",
        "# 10. Анализируем результаты\n",
        "counts_m0 = result.histogram(key='m0')\n",
        "counts_m1 = result.histogram(key='m1')\n",
        "print(f'Результаты измерений m0: {counts_m0}')\n",
        "print(f'Результаты измерений m1: {counts_m1}')\n"
      ],
      "metadata": {
        "id": "NCvjCS_-x5OH",
        "outputId": "f93658ec-65a5-49e8-b392-e7805b6a2f73",
        "colab": {
          "base_uri": "https://localhost:8080/"
        }
      },
      "execution_count": 6,
      "outputs": [
        {
          "output_type": "stream",
          "name": "stdout",
          "text": [
            "Квантовая схема:\n",
            "(0, 0): ───X───────@───H─────────M('m0')───@───\n",
            "                   │                       │\n",
            "(0, 1): ───H───@───X───M('m1')───@─────────┼───\n",
            "               │                 │         │\n",
            "(0, 2): ───────X─────────────────X─────────@───\n",
            "Результаты измерений m0: Counter({1: 508, 0: 492})\n",
            "Результаты измерений m1: Counter({1: 517, 0: 483})\n"
          ]
        }
      ]
    },
    {
      "cell_type": "code",
      "source": [
        "# 3 лаба:\n",
        "import cirq\n",
        "import qsimcirq\n",
        "\n",
        "# 1. Создаем кубиты (один рабочий и один вспомогательный)\n",
        "qubits = [cirq.GridQubit(0, i) for i in range(2)]\n",
        "\n",
        "# 2. Создаем квантовую схему\n",
        "circuit = cirq.Circuit()\n",
        "\n",
        "# 3. Применяем Hadamard к обоим кубитам\n",
        "circuit.append(cirq.H(qubits[0]))\n",
        "circuit.append(cirq.H(qubits[1]))\n",
        "\n",
        "# 4. Добавляем оракул (функция f может быть постоянной или сбалансированной)\n",
        "def deutsch_jozsa_oracle(qubits, constant=True):\n",
        "    if not constant:\n",
        "        circuit.append(cirq.CNOT(qubits[0], qubits[1]))\n",
        "    # Если функция постоянная, не делаем ничего (или применяем X ко второму кубиту)\n",
        "\n",
        "deutsch_jozsa_oracle(qubits, constant=False)\n",
        "\n",
        "# 5. Применяем Hadamard к первому кубиту после оракула\n",
        "circuit.append(cirq.H(qubits[0]))\n",
        "\n",
        "# 6. Измеряем первый кубит\n",
        "circuit.append(cirq.measure(qubits[0], key='result'))\n",
        "\n",
        "print(\"Квантовая схема:\")\n",
        "print(circuit)\n",
        "\n",
        "# 7. Компилируем программу в формат qsimcirq\n",
        "qsim_circuit = qsimcirq.QSimCircuit(circuit)\n",
        "\n",
        "# 8. Запускаем на симуляторе\n",
        "simulator = qsimcirq.QSimSimulator()\n",
        "result = simulator.run(qsim_circuit, repetitions=1000)\n",
        "\n",
        "# 9. Анализируем результаты\n",
        "counts = result.histogram(key='result')\n",
        "print(f'Результаты измерений: {counts}')"
      ],
      "metadata": {
        "id": "10XTVvTXyRjg",
        "outputId": "1ae2bb2b-7a3c-4308-cc4c-b4b43189f66c",
        "colab": {
          "base_uri": "https://localhost:8080/"
        }
      },
      "execution_count": 9,
      "outputs": [
        {
          "output_type": "stream",
          "name": "stdout",
          "text": [
            "Квантовая схема:\n",
            "(0, 0): ───H───@───H───M('result')───\n",
            "               │\n",
            "(0, 1): ───H───X─────────────────────\n",
            "Результаты измерений: Counter({0: 1000})\n"
          ]
        }
      ]
    },
    {
      "cell_type": "code",
      "source": [
        "# 4 лаба\n",
        "import cirq\n",
        "import qsimcirq\n",
        "import matplotlib.pyplot as plt\n",
        "\n",
        "# 1. Создаем кубиты (3 кубита для алгоритма Гровера)\n",
        "qubits = [cirq.GridQubit(0, i) for i in range(3)]\n",
        "\n",
        "# 2. Создаем квантовую схему\n",
        "circuit = cirq.Circuit()\n",
        "\n",
        "# 3. Применяем Hadamard ко всем кубитам\n",
        "circuit.append(cirq.H.on_each(*qubits))\n",
        "\n",
        "# 4. Оракул Гровера (поиск состояния |101⟩)\n",
        "def grover_oracle(qubits):\n",
        "    circuit.append(cirq.X(qubits[0]))\n",
        "    circuit.append(cirq.CCX(qubits[1], qubits[2], qubits[0]))\n",
        "    circuit.append(cirq.X(qubits[0]))\n",
        "\n",
        "grover_oracle(qubits)\n",
        "\n",
        "# 5. Амплитудное усиление (диффузионный оператор)\n",
        "circuit.append(cirq.H.on_each(*qubits))\n",
        "circuit.append(cirq.X.on_each(*qubits))\n",
        "circuit.append(cirq.CCX(qubits[0], qubits[1], qubits[2]))\n",
        "circuit.append(cirq.X.on_each(*qubits))\n",
        "circuit.append(cirq.H.on_each(*qubits))\n",
        "\n",
        "# 6. Измеряем кубиты\n",
        "circuit.append(cirq.measure(*qubits, key='result'))\n",
        "\n",
        "print(\"Квантовая схема:\")\n",
        "print(circuit)\n",
        "\n",
        "# 7. Компилируем программу в формат qsimcirq\n",
        "qsim_circuit = qsimcirq.QSimCircuit(circuit)\n",
        "\n",
        "# 8. Запускаем на симуляторе\n",
        "simulator = qsimcirq.QSimSimulator()\n",
        "result = simulator.run(qsim_circuit, repetitions=1000)\n",
        "\n",
        "# 9. Анализируем результаты\n",
        "counts = result.histogram(key='result')\n",
        "print(f'Результаты измерений: {counts}')\n",
        "\n",
        "# 10. Визуализация результатов\n",
        "plt.bar(counts.keys(), counts.values())\n",
        "plt.xlabel(\"Измеренные состояния\")\n",
        "plt.ylabel(\"Частота\")\n",
        "plt.title(\"Результаты алгоритма Гровера\")\n",
        "plt.show()"
      ],
      "metadata": {
        "id": "GAOG0rbHy3R1",
        "outputId": "3794727e-4f20-4a98-b7ba-64ba584da33d",
        "colab": {
          "base_uri": "https://localhost:8080/",
          "height": 594
        }
      },
      "execution_count": 11,
      "outputs": [
        {
          "output_type": "stream",
          "name": "stdout",
          "text": [
            "Квантовая схема:\n",
            "(0, 0): ───H───X───X───X───H───X───@───X───H───M('result')───\n",
            "                   │               │           │\n",
            "(0, 1): ───H───────@───H───X───────@───X───H───M─────────────\n",
            "                   │               │           │\n",
            "(0, 2): ───H───────@───H───X───────X───X───H───M─────────────\n",
            "Результаты измерений: Counter({4: 142, 3: 132, 5: 131, 2: 129, 1: 120, 0: 117, 6: 116, 7: 113})\n"
          ]
        },
        {
          "output_type": "display_data",
          "data": {
            "text/plain": [
              "<Figure size 640x480 with 1 Axes>"
            ],
            "image/png": "[encoded data removed]"
          },
          "metadata": {}
        }
      ]
    }
  ],
  "metadata": {
    "colab": {
      "name": "qsimcirq.ipynb",
      "toc_visible": true,
      "provenance": []
    },
    "kernelspec": {
      "display_name": "Python 3",
      "name": "python3"
    }
  },
  "nbformat": 4,
  "nbformat_minor": 0
}